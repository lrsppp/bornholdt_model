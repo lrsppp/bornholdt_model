{
 "cells": [
  {
   "cell_type": "code",
   "execution_count": 1,
   "metadata": {},
   "outputs": [],
   "source": [
    "import matplotlib.pyplot as plt\n",
    "from mpl_toolkits.axes_grid1 import make_axes_locatable\n",
    "\n",
    "import numpy as np\n",
    "import pandas as pd\n",
    "\n",
    "from scipy.stats import skew, kurtosis, jarque_bera, shapiro\n",
    "from statsmodels.tsa import stattools\n",
    "import yfinance as yf\n",
    "\n",
    "import copy"
   ]
  },
  {
   "cell_type": "markdown",
   "metadata": {},
   "source": [
    "### Simulation\n",
    "---"
   ]
  },
  {
   "cell_type": "code",
   "execution_count": 2,
   "metadata": {},
   "outputs": [],
   "source": [
    "def mc_step_strategy(grid, strategy):\n",
    "    # choose random spin\n",
    "    x, y = np.random.choice(N, size = 2)\n",
    "    s = grid[x][y]\n",
    "    c = strategy[x][y]\n",
    "\n",
    "    # magnetization\n",
    "    m = np.sum(grid) / size\n",
    "    \n",
    "    # neighbour interactions\n",
    "    nbs = grid[(x + 1) % N][y] + grid[(x - 1) % N][y] + grid[x][(y + 1) % N] + grid[x][(y - 1) % N]\n",
    "    h = nbs - alpha * c * m\n",
    "    \n",
    "    # probability update +1\n",
    "    p = 1 / (1 + np.exp(-2 * beta * h))\n",
    "    if p > np.random.rand():\n",
    "        grid[x][y] = 1\n",
    "    else:\n",
    "        grid[x][y] = -1\n",
    "        \n",
    "    # strategy update\n",
    "    strat = alpha * s * c * m\n",
    "    if strat < 0:\n",
    "        strategy[x][y] = c * -1\n",
    "    \n",
    "    return grid, strategy, m"
   ]
  },
  {
   "cell_type": "code",
   "execution_count": 3,
   "metadata": {},
   "outputs": [],
   "source": [
    "# simulation parameters\n",
    "N = 32\n",
    "size = int(N**2)\n",
    "\n",
    "J = 1\n",
    "alpha = 10\n",
    "beta = 1.5\n",
    "\n",
    "nwarumup = int(1e4)\n",
    "nsim = int(1e6)\n",
    "interval = 100"
   ]
  },
  {
   "cell_type": "code",
   "execution_count": null,
   "metadata": {},
   "outputs": [],
   "source": [
    "# model with strategy spin\n",
    "np.random.seed(14)\n",
    "grid = (np.random.randint(0, 2, size = (N, N)) * 2) - 1\n",
    "strategy = (np.random.randint(0, 2, size = (N, N)) * 2) - 1\n",
    "\n",
    "grids = np.zeros((int(nsim / interval), N, N))\n",
    "strats = np.zeros((int(nsim / interval), N, N))\n",
    "M = np.zeros(nsim)\n",
    "k = 0\n",
    "\n",
    "# burn in phase\n",
    "for _ in range(nwarumup):\n",
    "    grid, strategy, m = mc_step_strategy(grid, strategy)\n",
    "    \n",
    "# actual simulation\n",
    "for i in range(nsim):\n",
    "    # monte carlo step\n",
    "    grid, strategy, m = mc_step_strategy(grid, strategy)\n",
    "    M[i] = m\n",
    "    \n",
    "    # save configurations\n",
    "    if i % interval == 0:\n",
    "        grids[k] = grid.copy()\n",
    "        strats[k] = strategy.copy()\n",
    "        k += 1"
   ]
  },
  {
   "cell_type": "markdown",
   "metadata": {},
   "source": [
    "### Data S&P 500\n",
    "---"
   ]
  },
  {
   "cell_type": "code",
   "execution_count": null,
   "metadata": {},
   "outputs": [],
   "source": [
    "ticker = yf.Ticker('^GSPC')\n",
    "df = ticker.history(period='max')\n",
    "\n",
    "r_gspc = df['Close'].pct_change().dropna()"
   ]
  },
  {
   "cell_type": "markdown",
   "metadata": {},
   "source": [
    "### Plots/Tables\n",
    "---"
   ]
  },
  {
   "cell_type": "code",
   "execution_count": null,
   "metadata": {},
   "outputs": [],
   "source": [
    "m = M[::interval]\n",
    "r = np.diff(m)\n",
    "\n",
    "fig, ax = plt.subplots(2, 1, sharex = True)\n",
    "\n",
    "ax[0].plot(m)\n",
    "ax[0].set_ylabel(r'$\\mathrm{Model\\,Price}\\,/\\,\\mathrm{a.u.}$')\n",
    "ax[0].set_yticks([])\n",
    "ax[0].axvline(np.where(m == np.max(m))[0][0], color = 'k', linestyle = '--')\n",
    "ax[0].axvline(np.where(m == np.min(m))[0][0], color = 'k', linestyle = '--')\n",
    "ax[1].plot(r)\n",
    "ax[1].set_ylabel(r'$\\mathrm{Model\\,Returns}$')\n",
    "ax[1].set_xlabel(r'$\\mathrm{Time}\\,t$')\n",
    "\n",
    "plt.tight_layout()\n",
    "figname = 'model'\n",
    "plt.savefig(f'plots/{figname}.pdf')\n",
    "plt.savefig(f'plots/{figname}.jpeg')"
   ]
  },
  {
   "cell_type": "code",
   "execution_count": null,
   "metadata": {},
   "outputs": [],
   "source": [
    "fig, ax = plt.subplots()\n",
    "start = len(r_gspc) - 10_000 - 1\n",
    "end = len(r_gspc) - 1\n",
    "ax.plot(r_gspc.iloc[start:end])\n",
    "ax.set_ylabel(r'$\\mathrm{Returns}\\,\\mathrm{S\\&P}\\,500$')\n",
    "\n",
    "ax.set_xlabel(r'$\\mathrm{Time}\\,t$')\n",
    "figname = 'gspc'\n",
    "\n",
    "plt.tight_layout()\n",
    "plt.savefig(f'plots/{figname}.pdf')\n",
    "plt.savefig(f'plots/{figname}.jpeg')\n",
    "\n",
    "print(r_gspc.index[start])\n",
    "print(r_gspc.index[end])"
   ]
  },
  {
   "cell_type": "code",
   "execution_count": null,
   "metadata": {},
   "outputs": [],
   "source": [
    "fig, ax = plt.subplots(1, 3, sharey = True, figsize = (4.53 * 1.5, 2.7))\n",
    "cmap = plt.get_cmap('plasma', 2)\n",
    "vmin, vmax = -0.5, 1.5\n",
    "\n",
    "idx = [\n",
    "    500,\n",
    "    np.where(m == m.min())[0][0],\n",
    "    np.where(m == m.max())[0][0]\n",
    "]\n",
    "\n",
    "for i in range(len(idx)):\n",
    "    im = ax[i].imshow(grids[idx[i]], cmap = cmap, vmin = vmin, vmax = vmax)\n",
    "    ax[i].set_title(r'$t = %s$' % idx[i])\n",
    "\n",
    "    divider = make_axes_locatable(ax[i])\n",
    "    cax = divider.append_axes(\"right\", size=\"10%\", pad=0.05)\n",
    "\n",
    "    cbar = fig.colorbar(im, ax=ax[i], cax = cax, ticks = [0, 1])\n",
    "    cbar.ax.set_yticklabels(['Sell', 'Buy'])\n",
    "    \n",
    "    ax[i].set_xticks([0, 15, 31])\n",
    "    ax[i].set_yticks([0, 15, 31])\n",
    "    \n",
    "plt.tight_layout()\n",
    "figname = 'snapshots'\n",
    "plt.savefig(f'plots/{figname}.pdf')\n",
    "plt.savefig(f'plots/{figname}.jpeg')"
   ]
  },
  {
   "cell_type": "code",
   "execution_count": null,
   "metadata": {},
   "outputs": [],
   "source": [
    "data = {\n",
    "    'Model Returns': r,\n",
    "    'S&P 500 Returns': r_gspc.iloc[start:end].values,\n",
    "}"
   ]
  },
  {
   "cell_type": "code",
   "execution_count": null,
   "metadata": {},
   "outputs": [],
   "source": [
    "res = pd.DataFrame()\n",
    "\n",
    "for k, v in data.items():\n",
    "    res.loc[k, 'Skewness'] = np.round(skew(v), 3)\n",
    "    res.loc[k, 'Kurtosis'] = np.round(kurtosis(v), 3)\n",
    "    res.loc[k, 'Shapiro-Wilk (p-value)'] = np.round(shapiro(v)[1])\n",
    "    res.loc[k, 'Jarque-Bera (p-value)'] = np.round(jarque_bera(v)[1])\n",
    "    \n",
    "    acor = stattools.acf(v, nlags = 2, fft=True)\n",
    "    res.loc[k, 'ACF(1)'] = np.round(acor[1], 3)\n",
    "    res.loc[k, 'ACF(2)'] = np.round(acor[2], 3)\n",
    "    \n",
    "res.T.to_csv('tables/statistics.csv')"
   ]
  },
  {
   "cell_type": "markdown",
   "metadata": {},
   "source": [
    "### Example Lattice\n",
    "---"
   ]
  },
  {
   "cell_type": "code",
   "execution_count": null,
   "metadata": {},
   "outputs": [],
   "source": [
    "np.random.seed(1)\n",
    "N = 7\n",
    "\n",
    "x = np.arange(N) \n",
    "y = np.arange(N)\n",
    "\n",
    "u = np.zeros((N, N), dtype = 'float')\n",
    "v = ((np.random.randint(2, size = (N, N)) * 2) - 1).astype('float')\n",
    "\n",
    "fig, ax = plt.subplots(figsize = (N, N))\n",
    "colors = ['C0', 'C1']\n",
    "for i, sign in enumerate([1, -1]):\n",
    "    idx = np.argwhere(v == sign)\n",
    "    if sign == 1:\n",
    "        s = 'Buy'\n",
    "    else:\n",
    "        s = 'Sell'   \n",
    "    for (x, y) in idx:\n",
    "        ax.quiver(x, y - 0.2 * sign, 0, sign, color = colors[i])\n",
    "        ax.annotate(s, (x + 0.1, y - 0.01), fontsize = 12)\n",
    "        \n",
    "# draw nearest neighbours\n",
    "circle = plt.Circle((int(N/2), int(N/2)), 1.25, color = 'k', fill = False, linewidth = 3)\n",
    "ax.add_patch(circle)\n",
    "plt.xlim(-0.5, N)\n",
    "plt.ylim(-0.5, N - 0.5)\n",
    "plt.xticks([])\n",
    "plt.yticks([])\n",
    "\n",
    "figname = 'schematic'\n",
    "plt.savefig(f'plots/{figname}.pdf')\n",
    "plt.savefig(f'plots/{figname}.jpeg')"
   ]
  }
 ],
 "metadata": {
  "kernelspec": {
   "display_name": "Python 3",
   "language": "python",
   "name": "python3"
  },
  "language_info": {
   "codemirror_mode": {
    "name": "ipython",
    "version": 3
   },
   "file_extension": ".py",
   "mimetype": "text/x-python",
   "name": "python",
   "nbconvert_exporter": "python",
   "pygments_lexer": "ipython3",
   "version": "3.8.5"
  }
 },
 "nbformat": 4,
 "nbformat_minor": 4
}
